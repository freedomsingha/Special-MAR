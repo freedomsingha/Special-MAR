{
  "nbformat": 4,
  "nbformat_minor": 0,
  "metadata": {
    "colab": {
      "name": "python1.ipynb",
      "provenance": [],
      "authorship_tag": "ABX9TyNbU2nQushCJNeDC59eI1Uq",
      "include_colab_link": true
    },
    "kernelspec": {
      "name": "python3",
      "display_name": "Python 3"
    },
    "language_info": {
      "name": "python"
    }
  },
  "cells": [
    {
      "cell_type": "markdown",
      "metadata": {
        "id": "view-in-github",
        "colab_type": "text"
      },
      "source": [
        "<a href=\"https://colab.research.google.com/github/freedomsingha/Special-MAR/blob/main/python1.ipynb\" target=\"_parent\"><img src=\"https://colab.research.google.com/assets/colab-badge.svg\" alt=\"Open In Colab\"/></a>"
      ]
    },
    {
      "cell_type": "markdown",
      "metadata": {
        "id": "xPAFcHpdkTxK"
      },
      "source": [
        "Python program to reverse a stack"
      ]
    },
    {
      "cell_type": "code",
      "metadata": {
        "colab": {
          "base_uri": "https://localhost:8080/"
        },
        "id": "Ua8cisQRkHlG",
        "outputId": "03107e9c-1b0a-4e33-ad4a-e14f9bef6e80"
      },
      "source": [
        "# create class for stack\n",
        "class Stack:\n",
        "\n",
        "\t# create empty list\n",
        "\tdef __init__(self):\n",
        "\t\tself.Elements = []\n",
        "\t\t\n",
        "\t# push() for insert an element\n",
        "\tdef push(self, value):\n",
        "\t\tself.Elements.append(value)\n",
        "\t\n",
        "\t# pop() for remove an element\n",
        "\tdef pop(self):\n",
        "\t\treturn self.Elements.pop()\n",
        "\t\n",
        "\t# empty() check the stack is empty of not\n",
        "\tdef empty(self):\n",
        "\t\treturn self.Elements == []\n",
        "\t\n",
        "\t# show() display stack\n",
        "\tdef show(self):\n",
        "\t\tfor value in reversed(self.Elements):\n",
        "\t\t\tprint(value)\n",
        "\n",
        "# Insert_Bottom() insert value at bottom\n",
        "def BottomInsert(s, value):\n",
        "\n",
        "\t# check the stack is empty or not\n",
        "\tif s.empty():\n",
        "\t\t\n",
        "\t\t# if stack is empty then call\n",
        "\t\t# push() method.\n",
        "\t\ts.push(value)\n",
        "\t\t\n",
        "\t# if stack is not empty then execute\n",
        "\t# else block\n",
        "\telse:\n",
        "\t\tpopped = s.pop()\n",
        "\t\tBottomInsert(s, value)\n",
        "\t\ts.push(popped)\n",
        "\n",
        "# Reverse() reverse the stack\n",
        "def Reverse(s):\n",
        "\tif s.empty():\n",
        "\t\tpass\n",
        "\telse:\n",
        "\t\tpopped = s.pop()\n",
        "\t\tReverse(s)\n",
        "\t\tBottomInsert(s, popped)\n",
        "\n",
        "\n",
        "# create object of stack class\n",
        "stk = Stack()\n",
        "\n",
        "stk.push(1)\n",
        "stk.push(2)\n",
        "stk.push(3)\n",
        "stk.push(4)\n",
        "stk.push(5)\n",
        "\n",
        "print(\"Original Stack\")\n",
        "stk.show()\n",
        "\n",
        "print(\"\\nStack after Reversing\")\n",
        "Reverse(stk)\n",
        "stk.show()\n"
      ],
      "execution_count": 1,
      "outputs": [
        {
          "output_type": "stream",
          "text": [
            "Original Stack\n",
            "5\n",
            "4\n",
            "3\n",
            "2\n",
            "1\n",
            "\n",
            "Stack after Reversing\n",
            "1\n",
            "2\n",
            "3\n",
            "4\n",
            "5\n"
          ],
          "name": "stdout"
        }
      ]
    }
  ]
}